{
  "cells": [
    {
      "cell_type": "markdown",
      "metadata": {
        "id": "KzHK2RLHcw_E"
      },
      "source": [
        "[![Open In Colab](https://colab.research.google.com/assets/colab-badge.svg)](https://colab.research.google.com/drive/1xV9PZiEFTwTZJUtttk2bEvX6NKIGJzBd?usp=sharing)"
      ]
    },
    {
      "cell_type": "markdown",
      "metadata": {
        "id": "Eh0egNoRdb6F"
      },
      "source": [
        "## Generate MCQs from Data using [Educhain](https://github.com/satvik314/educhain)\n",
        "\n",
        "\n",
        "Explore the power of AI-driven education with Educhain! This notebook demonstrates how to create high-quality Multiple Choice Questions (MCQs) from various data sources using the Educhain package. ✅\n",
        "\n",
        "Key Features:\n",
        "- Generate MCQs from PDF files, web pages, and plain text\n",
        "- Customize difficulty levels and learning objectives\n",
        "- Leverage advanced language models for question generation\n",
        "\n",
        "Perfect for educators, content creators, and e-learning developers looking to automate and enhance their question creation process. Dive in to revolutionize your approach to educational content generation!\n",
        "\n"
      ]
    },
    {
      "cell_type": "code",
      "execution_count": 1,
      "metadata": {
        "colab": {
          "base_uri": "https://localhost:8080/"
        },
        "id": "iVsx0ZrTcw08",
        "outputId": "d81b7976-59ae-4252-cac3-b8344974fdcb"
      },
      "outputs": [
        {
          "name": "stdout",
          "output_type": "stream",
          "text": [
            "\u001b[?25l     \u001b[90m━━━━━━━━━━━━━━━━━━━━━━━━━━━━━━━━━━━━━━━━\u001b[0m \u001b[32m0.0/67.3 kB\u001b[0m \u001b[31m?\u001b[0m eta \u001b[36m-:--:--\u001b[0m\r\u001b[2K     \u001b[90m━━━━━━━━━━━━━━━━━━━━━━━━━━━━━━━━━━━━━━━━\u001b[0m \u001b[32m67.3/67.3 kB\u001b[0m \u001b[31m4.7 MB/s\u001b[0m eta \u001b[36m0:00:00\u001b[0m\n",
            "\u001b[?25h  Installing build dependencies ... \u001b[?25l\u001b[?25hdone\n",
            "  Getting requirements to build wheel ... \u001b[?25l\u001b[?25hdone\n",
            "  Preparing metadata (pyproject.toml) ... \u001b[?25l\u001b[?25hdone\n",
            "\u001b[2K     \u001b[90m━━━━━━━━━━━━━━━━━━━━━━━━━━━━━━━━━━━━━━━━\u001b[0m \u001b[32m50.4/50.4 kB\u001b[0m \u001b[31m1.7 MB/s\u001b[0m eta \u001b[36m0:00:00\u001b[0m\n",
            "\u001b[?25h  Preparing metadata (setup.py) ... \u001b[?25l\u001b[?25hdone\n",
            "\u001b[2K   \u001b[90m━━━━━━━━━━━━━━━━━━━━━━━━━━━━━━━━━━━━━━━━\u001b[0m \u001b[32m399.9/399.9 kB\u001b[0m \u001b[31m16.4 MB/s\u001b[0m eta \u001b[36m0:00:00\u001b[0m\n",
            "\u001b[2K   \u001b[90m━━━━━━━━━━━━━━━━━━━━━━━━━━━━━━━━━━━━━━━━\u001b[0m \u001b[32m599.2/599.2 kB\u001b[0m \u001b[31m22.5 MB/s\u001b[0m eta \u001b[36m0:00:00\u001b[0m\n",
            "\u001b[2K   \u001b[90m━━━━━━━━━━━━━━━━━━━━━━━━━━━━━━━━━━━━━━━━\u001b[0m \u001b[32m2.4/2.4 MB\u001b[0m \u001b[31m48.3 MB/s\u001b[0m eta \u001b[36m0:00:00\u001b[0m\n",
            "\u001b[2K   \u001b[90m━━━━━━━━━━━━━━━━━━━━━━━━━━━━━━━━━━━━━━━━\u001b[0m \u001b[32m1.0/1.0 MB\u001b[0m \u001b[31m23.2 MB/s\u001b[0m eta \u001b[36m0:00:00\u001b[0m\n",
            "\u001b[2K   \u001b[90m━━━━━━━━━━━━━━━━━━━━━━━━━━━━━━━━━━━━━━━━\u001b[0m \u001b[32m2.3/2.3 MB\u001b[0m \u001b[31m49.2 MB/s\u001b[0m eta \u001b[36m0:00:00\u001b[0m\n",
            "\u001b[2K   \u001b[90m━━━━━━━━━━━━━━━━━━━━━━━━━━━━━━━━━━━━━━━━\u001b[0m \u001b[32m51.5/51.5 kB\u001b[0m \u001b[31m2.5 MB/s\u001b[0m eta \u001b[36m0:00:00\u001b[0m\n",
            "\u001b[2K   \u001b[90m━━━━━━━━━━━━━━━━━━━━━━━━━━━━━━━━━━━━━━━━\u001b[0m \u001b[32m375.6/375.6 kB\u001b[0m \u001b[31m18.4 MB/s\u001b[0m eta \u001b[36m0:00:00\u001b[0m\n",
            "\u001b[2K   \u001b[90m━━━━━━━━━━━━━━━━━━━━━━━━━━━━━━━━━━━━━━━━\u001b[0m \u001b[32m232.6/232.6 kB\u001b[0m \u001b[31m15.0 MB/s\u001b[0m eta \u001b[36m0:00:00\u001b[0m\n",
            "\u001b[2K   \u001b[90m━━━━━━━━━━━━━━━━━━━━━━━━━━━━━━━━━━━━━━━━\u001b[0m \u001b[32m1.9/1.9 MB\u001b[0m \u001b[31m70.8 MB/s\u001b[0m eta \u001b[36m0:00:00\u001b[0m\n",
            "\u001b[2K   \u001b[90m━━━━━━━━━━━━━━━━━━━━━━━━━━━━━━━━━━━━━━━━\u001b[0m \u001b[32m273.8/273.8 kB\u001b[0m \u001b[31m18.1 MB/s\u001b[0m eta \u001b[36m0:00:00\u001b[0m\n",
            "\u001b[2K   \u001b[90m━━━━━━━━━━━━━━━━━━━━━━━━━━━━━━━━━━━━━━━━\u001b[0m \u001b[32m94.6/94.6 kB\u001b[0m \u001b[31m7.7 MB/s\u001b[0m eta \u001b[36m0:00:00\u001b[0m\n",
            "\u001b[2K   \u001b[90m━━━━━━━━━━━━━━━━━━━━━━━━━━━━━━━━━━━━━━━━\u001b[0m \u001b[32m76.4/76.4 kB\u001b[0m \u001b[31m5.9 MB/s\u001b[0m eta \u001b[36m0:00:00\u001b[0m\n",
            "\u001b[2K   \u001b[90m━━━━━━━━━━━━━━━━━━━━━━━━━━━━━━━━━━━━━━━━\u001b[0m \u001b[32m77.9/77.9 kB\u001b[0m \u001b[31m5.7 MB/s\u001b[0m eta \u001b[36m0:00:00\u001b[0m\n",
            "\u001b[2K   \u001b[90m━━━━━━━━━━━━━━━━━━━━━━━━━━━━━━━━━━━━━━━━\u001b[0m \u001b[32m318.9/318.9 kB\u001b[0m \u001b[31m23.7 MB/s\u001b[0m eta \u001b[36m0:00:00\u001b[0m\n",
            "\u001b[2K   \u001b[90m━━━━━━━━━━━━━━━━━━━━━━━━━━━━━━━━━━━━━━━━\u001b[0m \u001b[32m1.9/1.9 MB\u001b[0m \u001b[31m65.6 MB/s\u001b[0m eta \u001b[36m0:00:00\u001b[0m\n",
            "\u001b[2K   \u001b[90m━━━━━━━━━━━━━━━━━━━━━━━━━━━━━━━━━━━━━━━━\u001b[0m \u001b[32m291.5/291.5 kB\u001b[0m \u001b[31m21.6 MB/s\u001b[0m eta \u001b[36m0:00:00\u001b[0m\n",
            "\u001b[2K   \u001b[90m━━━━━━━━━━━━━━━━━━━━━━━━━━━━━━━━━━━━━━━━\u001b[0m \u001b[32m93.2/93.2 kB\u001b[0m \u001b[31m7.1 MB/s\u001b[0m eta \u001b[36m0:00:00\u001b[0m\n",
            "\u001b[2K   \u001b[90m━━━━━━━━━━━━━━━━━━━━━━━━━━━━━━━━━━━━━━━━\u001b[0m \u001b[32m13.2/13.2 MB\u001b[0m \u001b[31m92.8 MB/s\u001b[0m eta \u001b[36m0:00:00\u001b[0m\n",
            "\u001b[2K   \u001b[90m━━━━━━━━━━━━━━━━━━━━━━━━━━━━━━━━━━━━━━━━\u001b[0m \u001b[32m64.0/64.0 kB\u001b[0m \u001b[31m4.6 MB/s\u001b[0m eta \u001b[36m0:00:00\u001b[0m\n",
            "\u001b[2K   \u001b[90m━━━━━━━━━━━━━━━━━━━━━━━━━━━━━━━━━━━━━━━━\u001b[0m \u001b[32m52.5/52.5 kB\u001b[0m \u001b[31m3.7 MB/s\u001b[0m eta \u001b[36m0:00:00\u001b[0m\n",
            "\u001b[2K   \u001b[90m━━━━━━━━━━━━━━━━━━━━━━━━━━━━━━━━━━━━━━━━\u001b[0m \u001b[32m149.7/149.7 kB\u001b[0m \u001b[31m3.9 MB/s\u001b[0m eta \u001b[36m0:00:00\u001b[0m\n",
            "\u001b[2K   \u001b[90m━━━━━━━━━━━━━━━━━━━━━━━━━━━━━━━━━━━━━━━━\u001b[0m \u001b[32m110.5/110.5 kB\u001b[0m \u001b[31m7.9 MB/s\u001b[0m eta \u001b[36m0:00:00\u001b[0m\n",
            "\u001b[2K   \u001b[90m━━━━━━━━━━━━━━━━━━━━━━━━━━━━━━━━━━━━━━━━\u001b[0m \u001b[32m141.9/141.9 kB\u001b[0m \u001b[31m9.8 MB/s\u001b[0m eta \u001b[36m0:00:00\u001b[0m\n",
            "\u001b[2K   \u001b[90m━━━━━━━━━━━━━━━━━━━━━━━━━━━━━━━━━━━━━━━━\u001b[0m \u001b[32m54.3/54.3 kB\u001b[0m \u001b[31m4.2 MB/s\u001b[0m eta \u001b[36m0:00:00\u001b[0m\n",
            "\u001b[2K   \u001b[90m━━━━━━━━━━━━━━━━━━━━━━━━━━━━━━━━━━━━━━━━\u001b[0m \u001b[32m1.1/1.1 MB\u001b[0m \u001b[31m49.1 MB/s\u001b[0m eta \u001b[36m0:00:00\u001b[0m\n",
            "\u001b[2K   \u001b[90m━━━━━━━━━━━━━━━━━━━━━━━━━━━━━━━━━━━━━━━━\u001b[0m \u001b[32m62.8/62.8 kB\u001b[0m \u001b[31m4.6 MB/s\u001b[0m eta \u001b[36m0:00:00\u001b[0m\n",
            "\u001b[2K   \u001b[90m━━━━━━━━━━━━━━━━━━━━━━━━━━━━━━━━━━━━━━━━\u001b[0m \u001b[32m58.3/58.3 kB\u001b[0m \u001b[31m4.4 MB/s\u001b[0m eta \u001b[36m0:00:00\u001b[0m\n",
            "\u001b[2K   \u001b[90m━━━━━━━━━━━━━━━━━━━━━━━━━━━━━━━━━━━━━━━━\u001b[0m \u001b[32m341.4/341.4 kB\u001b[0m \u001b[31m22.8 MB/s\u001b[0m eta \u001b[36m0:00:00\u001b[0m\n",
            "\u001b[2K   \u001b[90m━━━━━━━━━━━━━━━━━━━━━━━━━━━━━━━━━━━━━━━━\u001b[0m \u001b[32m49.3/49.3 kB\u001b[0m \u001b[31m3.4 MB/s\u001b[0m eta \u001b[36m0:00:00\u001b[0m\n",
            "\u001b[2K   \u001b[90m━━━━━━━━━━━━━━━━━━━━━━━━━━━━━━━━━━━━━━━━\u001b[0m \u001b[32m71.5/71.5 kB\u001b[0m \u001b[31m5.5 MB/s\u001b[0m eta \u001b[36m0:00:00\u001b[0m\n",
            "\u001b[2K   \u001b[90m━━━━━━━━━━━━━━━━━━━━━━━━━━━━━━━━━━━━━━━━\u001b[0m \u001b[32m3.4/3.4 MB\u001b[0m \u001b[31m83.2 MB/s\u001b[0m eta \u001b[36m0:00:00\u001b[0m\n",
            "\u001b[2K   \u001b[90m━━━━━━━━━━━━━━━━━━━━━━━━━━━━━━━━━━━━━━━━\u001b[0m \u001b[32m425.7/425.7 kB\u001b[0m \u001b[31m28.6 MB/s\u001b[0m eta \u001b[36m0:00:00\u001b[0m\n",
            "\u001b[2K   \u001b[90m━━━━━━━━━━━━━━━━━━━━━━━━━━━━━━━━━━━━━━━━\u001b[0m \u001b[32m164.1/164.1 kB\u001b[0m \u001b[31m12.7 MB/s\u001b[0m eta \u001b[36m0:00:00\u001b[0m\n",
            "\u001b[2K   \u001b[90m━━━━━━━━━━━━━━━━━━━━━━━━━━━━━━━━━━━━━━━━\u001b[0m \u001b[32m46.0/46.0 kB\u001b[0m \u001b[31m3.3 MB/s\u001b[0m eta \u001b[36m0:00:00\u001b[0m\n",
            "\u001b[2K   \u001b[90m━━━━━━━━━━━━━━━━━━━━━━━━━━━━━━━━━━━━━━━━\u001b[0m \u001b[32m86.8/86.8 kB\u001b[0m \u001b[31m6.9 MB/s\u001b[0m eta \u001b[36m0:00:00\u001b[0m\n",
            "\u001b[?25h  Building wheel for pypika (pyproject.toml) ... \u001b[?25l\u001b[?25hdone\n",
            "  Building wheel for durationpy (setup.py) ... \u001b[?25l\u001b[?25hdone\n"
          ]
        }
      ],
      "source": [
        "!pip install -qU educhain langchain-google-genai"
      ]
    },
    {
      "cell_type": "markdown",
      "metadata": {
        "id": "W1AOh8qd9wbq"
      },
      "source": [
        "### Initiating Educhain with Gemini Pro 002"
      ]
    },
    {
      "cell_type": "code",
      "execution_count": 6,
      "metadata": {
        "id": "kkM9e1xM93hS"
      },
      "outputs": [],
      "source": [
        "from langchain_google_genai import ChatGoogleGenerativeAI\n",
        "from educhain import Educhain, LLMConfig\n",
        "from google.colab import userdata\n",
        "\n",
        "gemini = ChatGoogleGenerativeAI(\n",
        "    model=\"gemini-1.5-pro-002\",\n",
        "    api_key=userdata.get(\"GOOGLE_API_KEY\"))\n",
        "\n",
        "gemini_config = LLMConfig(custom_model=gemini)\n",
        "\n",
        "client = Educhain(gemini_config)"
      ]
    },
    {
      "cell_type": "markdown",
      "metadata": {
        "id": "pLKufnaS9qIv"
      },
      "source": [
        "### Generating MCQs from a PDF"
      ]
    },
    {
      "cell_type": "code",
      "execution_count": 9,
      "metadata": {
        "colab": {
          "base_uri": "https://localhost:8080/"
        },
        "id": "zcMOtAdlAlxH",
        "outputId": "621b500c-9546-4dd6-a151-6152815a285f"
      },
      "outputs": [
        {
          "name": "stdout",
          "output_type": "stream",
          "text": [
            "--2024-09-24 21:49:06--  https://arxiv.org/pdf/2306.05499.pdf\n",
            "Resolving arxiv.org (arxiv.org)... 151.101.131.42, 151.101.3.42, 151.101.195.42, ...\n",
            "Connecting to arxiv.org (arxiv.org)|151.101.131.42|:443... connected.\n",
            "HTTP request sent, awaiting response... 301 Moved Permanently\n",
            "Location: http://arxiv.org/pdf/2306.05499 [following]\n",
            "--2024-09-24 21:49:06--  http://arxiv.org/pdf/2306.05499\n",
            "Connecting to arxiv.org (arxiv.org)|151.101.131.42|:80... connected.\n",
            "HTTP request sent, awaiting response... 200 OK\n",
            "Length: 718844 (702K) [application/pdf]\n",
            "Saving to: ‘2306.05499.pdf’\n",
            "\n",
            "2306.05499.pdf      100%[===================>] 702.00K  --.-KB/s    in 0.04s   \n",
            "\n",
            "2024-09-24 21:49:06 (16.2 MB/s) - ‘2306.05499.pdf’ saved [718844/718844]\n",
            "\n"
          ]
        }
      ],
      "source": [
        "!wget https://arxiv.org/pdf/2306.05499.pdf"
      ]
    },
    {
      "cell_type": "code",
      "execution_count": 10,
      "metadata": {
        "colab": {
          "base_uri": "https://localhost:8080/"
        },
        "id": "ABbLIaYiArLb",
        "outputId": "7a1b29ae-d746-4dbd-c8b6-dd03a80a181a"
      },
      "outputs": [
        {
          "name": "stdout",
          "output_type": "stream",
          "text": [
            "Question 1:\n",
            "Question: What is HOUYI in the context of this paper?\n",
            "Options:\n",
            "  A. A large language model.\n",
            "  B. A type of LLM-integrated application.\n",
            "  C. A novel black-box prompt injection attack technique.\n",
            "  D. A defense mechanism against prompt injection.\n",
            "\n",
            "Correct Answer: A novel black-box prompt injection attack technique.\n",
            "Explanation: HOUYI is the name of the proposed attack method designed to exploit vulnerabilities in LLM-integrated applications.\n",
            "\n",
            "Question 2:\n",
            "Question: What is the primary security risk addressed in this paper?\n",
            "Options:\n",
            "  A. LLM hallucination.\n",
            "  B. Data poisoning in LLMs.\n",
            "  C. Prompt injection attacks against LLM-integrated applications.\n",
            "  D. Denial-of-service attacks against LLM providers.\n",
            "\n",
            "Correct Answer: Prompt injection attacks against LLM-integrated applications.\n",
            "Explanation: The paper focuses on the vulnerabilities of LLM-integrated applications to malicious prompt injections.\n",
            "\n",
            "Question 3:\n",
            "Question: What are the three key components of the HOUYI attack?\n",
            "Options:\n",
            "  A. Input sanitization, prompt filtering, output validation\n",
            "  B. Framework Component, Separator Component, Disruptor Component\n",
            "  C. Pre-training, fine-tuning, reinforcement learning\n",
            "  D. Context inference, payload generation, feedback analysis\n",
            "\n",
            "Correct Answer: Framework Component, Separator Component, Disruptor Component\n",
            "Explanation: These components work together to craft a malicious prompt that bypasses application defenses.\n",
            "\n",
            "Question 4:\n",
            "Question: What inspired the design of HOUYI?\n",
            "Options:\n",
            "  A. Reinforcement learning from human feedback.\n",
            "  B. Adversarial training of LLMs.\n",
            "  C. Traditional injection attacks like SQL injection and XSS attacks.\n",
            "  D. Zero-shot learning capabilities of LLMs.\n",
            "\n",
            "Correct Answer: Traditional injection attacks like SQL injection and XSS attacks.\n",
            "Explanation: The concept of manipulating input to be interpreted as commands is borrowed from these attacks.\n",
            "\n",
            "Question 5:\n",
            "Question: What is the purpose of the Separator Component in HOUYI?\n",
            "Options:\n",
            "  A. To enhance the readability of the injected prompt.\n",
            "  B. To provide additional context to the LLM.\n",
            "  C. To disrupt the semantic connection between the previous context and the adversarial question.\n",
            "  D. To encode the malicious payload.\n",
            "\n",
            "Correct Answer: To disrupt the semantic connection between the previous context and the adversarial question.\n",
            "Explanation: It creates a break that allows the malicious question to be treated as a separate command.\n",
            "\n",
            "Question 6:\n",
            "Question: What is the success rate of HOUYI in the evaluation across 36 real-world applications?\n",
            "Options:\n",
            "  A. 20%\n",
            "  B. 50%\n",
            "  C. 86.1%\n",
            "  D. 99%\n",
            "\n",
            "Correct Answer: 86.1%\n",
            "Explanation: HOUYI successfully launched attacks on 31 out of 36 applications.\n",
            "\n",
            "Question 7:\n",
            "Question: What are two severe attack outcomes demonstrated by HOUYI?\n",
            "Options:\n",
            "  A. Denial-of-service and data corruption.\n",
            "  B. Unrestricted arbitrary LLM usage and application prompt theft.\n",
            "  C. Model poisoning and backdoor insertion.\n",
            "  D. Privilege escalation and remote code execution.\n",
            "\n",
            "Correct Answer: Unrestricted arbitrary LLM usage and application prompt theft.\n",
            "Explanation: These outcomes can have significant financial and security implications for service providers.\n",
            "\n",
            "Question 8:\n",
            "Question: What is prompt leaking?\n",
            "Options:\n",
            "  A. Injecting malicious prompts into the application.\n",
            "  B. Retrieving the original prompts used by the application.\n",
            "  C. Causing the LLM to generate harmful content.\n",
            "  D. Bypassing the application's security measures.\n",
            "\n",
            "Correct Answer: Retrieving the original prompts used by the application.\n",
            "Explanation: This allows attackers to replicate the application's functionality at no cost.\n",
            "\n",
            "Question 9:\n",
            "Question: What is prompt abusing?\n",
            "Options:\n",
            "  A. Modifying the application's prompts.\n",
            "  B. Exploiting the application to freely use the LLM's computational power.\n",
            "  C. Analyzing the application's responses.\n",
            "  D. Reporting vulnerabilities to the service provider.\n",
            "\n",
            "Correct Answer: Exploiting the application to freely use the LLM's computational power.\n",
            "Explanation: This can result in significant financial losses for the service provider.\n",
            "\n",
            "Question 10:\n",
            "Question: What is one of the challenges in defending against prompt injection attacks?\n",
            "Options:\n",
            "  A. Prompt injection attacks are easy to detect.\n",
            "  B. Existing defense mechanisms are not fully effective against advanced techniques like HOUYI.\n",
            "  C. LLMs are inherently immune to prompt injection.\n",
            "  D. Users are generally aware of prompt injection risks.\n",
            "\n",
            "Correct Answer: Existing defense mechanisms are not fully effective against advanced techniques like HOUYI.\n",
            "Explanation: The paper highlights the need for more robust defense strategies.\n",
            "\n",
            "CPU times: user 1.75 s, sys: 16.1 ms, total: 1.76 s\n",
            "Wall time: 26.7 s\n"
          ]
        }
      ],
      "source": [
        "%%time\n",
        "mcqs_from_url = client.qna_engine.generate_questions_from_data(\n",
        "        source=\"2306.05499.pdf\",\n",
        "        source_type=\"pdf\",\n",
        "        num=10\n",
        "    )\n",
        "\n",
        "mcqs_from_url.show()"
      ]
    },
    {
      "cell_type": "markdown",
      "metadata": {
        "id": "oTbvK5QkBR2n"
      },
      "source": [
        "### It also supports URLs and Text"
      ]
    },
    {
      "cell_type": "code",
      "execution_count": 8,
      "metadata": {
        "colab": {
          "base_uri": "https://localhost:8080/"
        },
        "id": "qHIPmn5c9txq",
        "outputId": "b68bf577-7927-4e9e-e6c1-122de1871c97"
      },
      "outputs": [
        {
          "name": "stdout",
          "output_type": "stream",
          "text": [
            "Question 1:\n",
            "Question: In chaos theory, what does the butterfly effect describe?\n",
            "Options:\n",
            "  A. The life cycle of a butterfly\n",
            "  B. The migration patterns of butterflies\n",
            "  C. Sensitive dependence on initial conditions\n",
            "  D. The impact of butterflies on weather patterns\n",
            "\n",
            "Correct Answer: Sensitive dependence on initial conditions\n",
            "Explanation: The butterfly effect highlights how a small change in a system's initial state can lead to drastically different outcomes over time.\n",
            "\n",
            "Question 2:\n",
            "Question: Who is primarily associated with the development of the butterfly effect concept?\n",
            "Options:\n",
            "  A. Henri Poincaré\n",
            "  B. Alan Turing\n",
            "  C. Edward Norton Lorenz\n",
            "  D. Norbert Wiener\n",
            "\n",
            "Correct Answer: Edward Norton Lorenz\n",
            "Explanation: While others like Poincaré and Wiener contributed, Lorenz's work solidified the concept's connection to chaos theory.\n",
            "\n",
            "Question 3:\n",
            "Question: What was the initial example Lorenz used to illustrate the butterfly effect?\n",
            "Options:\n",
            "  A. A butterfly causing a tornado\n",
            "  B. A tornado causing a flood\n",
            "  C. A seagull causing a storm\n",
            "  D. A grain of sand causing an avalanche\n",
            "\n",
            "Correct Answer: A seagull causing a storm\n",
            "Explanation: He later changed it to the more poetic butterfly and tornado.\n",
            "\n",
            "Question 4:\n",
            "Question: What did Lorenz discover when he re-ran his weather model with slightly rounded initial conditions?\n",
            "Options:\n",
            "  A. The model produced the same results\n",
            "  B. The model crashed\n",
            "  C. The model produced a completely different weather scenario\n",
            "  D. The model produced slightly different results\n",
            "\n",
            "Correct Answer: The model produced a completely different weather scenario\n",
            "Explanation: This seemingly insignificant change in initial data resulted in a vastly different outcome, demonstrating sensitive dependence.\n",
            "\n",
            "Question 5:\n",
            "Question: Besides weather, what other areas can the butterfly effect concept be applied to?\n",
            "Options:\n",
            "  A. Only weather-related phenomena\n",
            "  B. Exclusively to computer modeling\n",
            "  C. The study of insect populations\n",
            "  D. Any situation where a small change can have large consequences\n",
            "\n",
            "Correct Answer: Any situation where a small change can have large consequences\n",
            "Explanation: The concept has broader implications beyond meteorology, highlighting the interconnectedness and unpredictability of complex systems.\n",
            "\n"
          ]
        }
      ],
      "source": [
        "mcqs_from_url = client.qna_engine.generate_questions_from_data(\n",
        "        source=\"https://en.wikipedia.org/wiki/Butterfly_effect\",\n",
        "        source_type=\"url\",\n",
        "        num=5\n",
        "    )\n",
        "\n",
        "mcqs_from_url.show()"
      ]
    }
  ],
  "metadata": {
    "colab": {
      "provenance": []
    },
    "kernelspec": {
      "display_name": "Python 3",
      "name": "python3"
    },
    "language_info": {
      "name": "python"
    }
  },
  "nbformat": 4,
  "nbformat_minor": 0
}
